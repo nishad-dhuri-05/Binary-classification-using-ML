{
  "cells": [
    {
      "cell_type": "code",
      "execution_count": null,
      "metadata": {
        "id": "hDuohmtorWZp"
      },
      "outputs": [],
      "source": [
        "import pandas as pd\n",
        "import numpy as np\n",
        "import matplotlib.pyplot as plt\n",
        "import seaborn as sns"
      ]
    },
    {
      "cell_type": "code",
      "execution_count": null,
      "metadata": {
        "id": "cdyO6aPnrtBp"
      },
      "outputs": [],
      "source": [
        "cols=[\"area\",\"perimeter\",\"compactness\",\"length\",\"width\",\"asymmetry\",\"groove\",\"class\"]\n",
        "df=pd.read_csv(\"data/seeds_dataset.txt\",names=cols,sep=\"\\s+\")"
      ]
    },
    {
      "cell_type": "code",
      "execution_count": null,
      "metadata": {
        "colab": {
          "base_uri": "https://localhost:8080/",
          "height": 206
        },
        "id": "XdC0rLhFsi_6",
        "outputId": "3d55b275-49b4-416c-a8fe-2b7f5d88ddc7"
      },
      "outputs": [],
      "source": [
        "df.head()"
      ]
    },
    {
      "cell_type": "code",
      "execution_count": null,
      "metadata": {
        "colab": {
          "base_uri": "https://localhost:8080/",
          "height": 1000
        },
        "id": "X-YjQFiBs0VX",
        "outputId": "c42058a4-107f-4d0b-c1cd-5e9e6c52c521"
      },
      "outputs": [],
      "source": [
        "for i in range(len(cols)-1):\n",
        "  for j in range(i+1,len(cols)-1):\n",
        "    x_label=cols[i]\n",
        "    y_label=cols[j]\n",
        "    sns.scatterplot(x=x_label,y=y_label,data=df,hue='class')\n",
        "    plt.show()"
      ]
    },
    {
      "cell_type": "markdown",
      "metadata": {
        "id": "iG0NCJUbuu0h"
      },
      "source": [
        "# Clustering"
      ]
    },
    {
      "cell_type": "code",
      "execution_count": null,
      "metadata": {
        "id": "h-445iyFus5z"
      },
      "outputs": [],
      "source": [
        "from sklearn.cluster import KMeans"
      ]
    },
    {
      "cell_type": "code",
      "execution_count": null,
      "metadata": {
        "id": "_5kTVq5Ou4ce"
      },
      "outputs": [],
      "source": [
        "# x and y refer to the chosen parameters and not feature and target\n",
        "x=\"perimeter\"\n",
        "y=\"asymmetry\"\n",
        "X=df[[x,y]].values"
      ]
    },
    {
      "cell_type": "code",
      "execution_count": null,
      "metadata": {
        "colab": {
          "base_uri": "https://localhost:8080/"
        },
        "id": "N259mGayvIJv",
        "outputId": "3028bf97-fb90-4f53-91df-034c838551fe"
      },
      "outputs": [],
      "source": [
        "kmeans=KMeans(n_clusters=3).fit(X)"
      ]
    },
    {
      "cell_type": "code",
      "execution_count": null,
      "metadata": {
        "colab": {
          "base_uri": "https://localhost:8080/"
        },
        "id": "ekoyXiMovVo4",
        "outputId": "d67e8835-6f5f-46af-afe2-43cf7ec8d77f"
      },
      "outputs": [],
      "source": [
        "clusters=kmeans.labels_\n",
        "clusters#gives prediction for all the clusters"
      ]
    },
    {
      "cell_type": "code",
      "execution_count": null,
      "metadata": {
        "id": "tv2j8K-2v4z6"
      },
      "outputs": [],
      "source": [
        "cluster_df=pd.DataFrame(np.hstack((X,clusters.reshape(-1,1))),columns=[x,y,\"class\"])"
      ]
    },
    {
      "cell_type": "code",
      "execution_count": null,
      "metadata": {
        "colab": {
          "base_uri": "https://localhost:8080/",
          "height": 466
        },
        "id": "9Sj9i0KIwg4U",
        "outputId": "b7ad4c5d-9a2f-43cb-cd87-bbe7244656e1"
      },
      "outputs": [],
      "source": [
        "# K Means classes\n",
        "sns.scatterplot(x=x,y=y,hue='class',data=cluster_df)\n",
        "plt.plot()"
      ]
    },
    {
      "cell_type": "code",
      "execution_count": null,
      "metadata": {
        "colab": {
          "base_uri": "https://localhost:8080/",
          "height": 466
        },
        "id": "YVP36f6Lwwlz",
        "outputId": "81881aee-a47c-4a16-c439-4cd24d6a8c50"
      },
      "outputs": [],
      "source": [
        "# Original Classes\n",
        "sns.scatterplot(x=x,y=y,hue='class',data=df)\n",
        "plt.plot()"
      ]
    },
    {
      "cell_type": "markdown",
      "metadata": {
        "id": "HXw0ropixExR"
      },
      "source": [
        "## Higher dimensions"
      ]
    },
    {
      "cell_type": "code",
      "execution_count": null,
      "metadata": {
        "id": "gk5SYwvqxGvT"
      },
      "outputs": [],
      "source": [
        "X=df[cols[:-1]].values"
      ]
    },
    {
      "cell_type": "code",
      "execution_count": null,
      "metadata": {
        "colab": {
          "base_uri": "https://localhost:8080/"
        },
        "id": "uIJeZG6txhul",
        "outputId": "9f81de1f-50a8-40ad-bd75-76cddb5c72dc"
      },
      "outputs": [],
      "source": [
        "kmeans=KMeans(n_clusters=3).fit(X)\n",
        "clusters=kmeans.labels_\n",
        "clusters#gives prediction for all the clusters"
      ]
    },
    {
      "cell_type": "code",
      "execution_count": null,
      "metadata": {
        "id": "dkPCTQudxwte"
      },
      "outputs": [],
      "source": [
        "cluster_df=pd.DataFrame(np.hstack((X,clusters.reshape(-1,1))),columns=cols)"
      ]
    },
    {
      "cell_type": "code",
      "execution_count": null,
      "metadata": {
        "colab": {
          "base_uri": "https://localhost:8080/",
          "height": 466
        },
        "id": "lQAckeJKMsqr",
        "outputId": "e5895477-981a-48cb-c81e-5e2e0f1d41f6"
      },
      "outputs": [],
      "source": [
        "# K Means classes\n",
        "sns.scatterplot(x=\"asymmetry\",y=\"groove\",hue='class',data=cluster_df)\n",
        "plt.plot()"
      ]
    },
    {
      "cell_type": "code",
      "execution_count": null,
      "metadata": {
        "colab": {
          "base_uri": "https://localhost:8080/",
          "height": 466
        },
        "id": "qLllyeouM3FO",
        "outputId": "26bdd222-1c58-4e84-9f35-974b2bfbffaf"
      },
      "outputs": [],
      "source": [
        "# Original Classes\n",
        "sns.scatterplot(x=\"asymmetry\",y=\"groove\",hue='class',data=df)\n",
        "plt.plot()"
      ]
    },
    {
      "cell_type": "markdown",
      "metadata": {
        "id": "nhtnK94ry15w"
      },
      "source": [
        "# PCA"
      ]
    },
    {
      "cell_type": "code",
      "execution_count": null,
      "metadata": {
        "id": "FVEGoufoy4CJ"
      },
      "outputs": [],
      "source": [
        "from sklearn.decomposition import PCA"
      ]
    },
    {
      "cell_type": "code",
      "execution_count": null,
      "metadata": {
        "id": "KMXTwsmHy9jm"
      },
      "outputs": [],
      "source": [
        " pca=PCA(n_components=2)\n",
        " transformed_x=pca.fit_transform(X)"
      ]
    },
    {
      "cell_type": "code",
      "execution_count": null,
      "metadata": {
        "colab": {
          "base_uri": "https://localhost:8080/"
        },
        "id": "AuDtMmGhTSAO",
        "outputId": "12a9b453-909b-40f0-8ca8-51438efe03d2"
      },
      "outputs": [],
      "source": [
        "X.shape"
      ]
    },
    {
      "cell_type": "code",
      "execution_count": null,
      "metadata": {
        "colab": {
          "base_uri": "https://localhost:8080/"
        },
        "id": "qzsKxFGyTXXH",
        "outputId": "6ae7155a-813b-4f51-86ec-d1b14d0cfb90"
      },
      "outputs": [],
      "source": [
        "transformed_x.shape"
      ]
    },
    {
      "cell_type": "code",
      "execution_count": null,
      "metadata": {
        "colab": {
          "base_uri": "https://localhost:8080/"
        },
        "id": "0bhDMqH1NyTK",
        "outputId": "438f6ffc-3a58-43ac-aac3-94e67f062b9b"
      },
      "outputs": [],
      "source": [
        "print(type(transformed_x))"
      ]
    },
    {
      "cell_type": "code",
      "execution_count": null,
      "metadata": {
        "colab": {
          "base_uri": "https://localhost:8080/",
          "height": 430
        },
        "id": "SpgkGIvYTaON",
        "outputId": "046422aa-876a-4fec-b80d-b10450a623e4"
      },
      "outputs": [],
      "source": [
        "plt.scatter(transformed_x[:,0],transformed_x[:,1])\n",
        "plt.show()"
      ]
    },
    {
      "cell_type": "code",
      "execution_count": null,
      "metadata": {
        "colab": {
          "base_uri": "https://localhost:8080/"
        },
        "id": "KstuCdEHUKNf",
        "outputId": "623b181a-b4af-4616-dc0b-d949a97bb60b"
      },
      "outputs": [],
      "source": [
        "kmeans=KMeans(n_clusters=3).fit(X)\n",
        "clusters=kmeans.labels_\n",
        "clusters#gives prediction for all the clusters"
      ]
    },
    {
      "cell_type": "code",
      "execution_count": null,
      "metadata": {
        "id": "LyEQ_osHTum2"
      },
      "outputs": [],
      "source": [
        "kmeans_pca_df=pd.DataFrame(np.hstack((transformed_x,kmeans.labels_.reshape(-1,1))),columns=[\"pc1\",\"pc2\",\"class\"])"
      ]
    },
    {
      "cell_type": "code",
      "execution_count": null,
      "metadata": {
        "id": "wDVzTyEYUWLJ"
      },
      "outputs": [],
      "source": [
        "truth_pca_df=pd.DataFrame(np.hstack((transformed_x,df[\"class\"].values.reshape(-1,1))),columns=[\"pc1\",\"pc2\",\"class\"])"
      ]
    },
    {
      "cell_type": "code",
      "execution_count": null,
      "metadata": {
        "colab": {
          "base_uri": "https://localhost:8080/",
          "height": 466
        },
        "id": "Ut9YUvGfUj1n",
        "outputId": "6b104d4c-ce40-4d6d-aaa4-4a0f1edc0a9e"
      },
      "outputs": [],
      "source": [
        "#kmeans classes\n",
        "sns.scatterplot(x=\"pc1\",y=\"pc2\",hue='class',data=kmeans_pca_df)\n",
        "plt.plot()"
      ]
    },
    {
      "cell_type": "code",
      "execution_count": null,
      "metadata": {
        "colab": {
          "base_uri": "https://localhost:8080/",
          "height": 466
        },
        "id": "nwdNeLOAUyDy",
        "outputId": "b9a75284-5675-4f11-b5a4-85b1270b5e9d"
      },
      "outputs": [],
      "source": [
        "#Original classes\n",
        "sns.scatterplot(x=\"pc1\",y=\"pc2\",hue='class',data=truth_pca_df)\n",
        "plt.plot()"
      ]
    }
  ],
  "metadata": {
    "colab": {
      "provenance": []
    },
    "kernelspec": {
      "display_name": "Python 3",
      "name": "python3"
    },
    "language_info": {
      "name": "python"
    }
  },
  "nbformat": 4,
  "nbformat_minor": 0
}
