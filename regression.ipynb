{
  "cells": [
    {
      "cell_type": "code",
      "execution_count": null,
      "metadata": {
        "id": "8hG_eMVlH2SE"
      },
      "outputs": [],
      "source": [
        "import pandas as pd\n",
        "import numpy as np\n",
        "import matplotlib.pyplot as plt\n",
        "from imblearn.over_sampling import RandomOverSampler\n",
        "from sklearn.preprocessing import StandardScaler\n",
        "\n",
        "import copy\n",
        "import seaborn as sns\n",
        "import tensorflow as tf\n",
        "from sklearn.linear_model import LinearRegression"
      ]
    },
    {
      "cell_type": "code",
      "execution_count": null,
      "metadata": {
        "id": "Kn4tuJSZI_2W"
      },
      "outputs": [],
      "source": [
        "dataset_cols = [\"bike_count\", \"hour\", \"temp\", \"humidity\", \"wind\", \"visibility\", \"dew_pt_temp\", \"radiation\", \"rain\", \"snow\", \"functional\"]\n",
        "df = pd.read_csv(\"data/SeoulBikeData.csv\").drop([\"Date\", \"Holiday\", \"Seasons\"], axis=1)\n",
        "df.columns=dataset_cols"
      ]
    },
    {
      "cell_type": "code",
      "execution_count": null,
      "metadata": {
        "colab": {
          "base_uri": "https://localhost:8080/",
          "height": 206
        },
        "id": "UPadT_--Neot",
        "outputId": "379bdbd1-bfee-458d-c899-aa59f065dafe"
      },
      "outputs": [],
      "source": [
        "df[\"functional\"]=(df[\"functional\"]==\"Yes\").astype(int)\n",
        "df=df[df[\"hour\"]==12]\n",
        "df=df.drop([\"hour\"],axis=1)\n",
        "df.head()"
      ]
    },
    {
      "cell_type": "code",
      "execution_count": null,
      "metadata": {
        "colab": {
          "base_uri": "https://localhost:8080/",
          "height": 1000
        },
        "id": "NtqPzUFaOGH7",
        "outputId": "69da52d4-4997-4d64-e6d4-304f4c5c75e1"
      },
      "outputs": [],
      "source": [
        "for label in df.columns[1:]:\n",
        "  plt.scatter(df[label],df[\"bike_count\"])\n",
        "  plt.title(label)\n",
        "  plt.ylabel(\"Bike count at Noon\")\n",
        "  plt.xlabel(label)\n",
        "  plt.show()"
      ]
    },
    {
      "cell_type": "code",
      "execution_count": null,
      "metadata": {
        "colab": {
          "base_uri": "https://localhost:8080/",
          "height": 206
        },
        "id": "qAcmPmsXO9nd",
        "outputId": "fc952648-3fc3-40f2-8815-6163a0483b8b"
      },
      "outputs": [],
      "source": [
        "df=df.drop([\"visibility\",\"functional\",\"wind\"],axis=1)#we can see from above graphs\n",
        "#that these arent very useful\n",
        "df.head()"
      ]
    },
    {
      "cell_type": "code",
      "execution_count": null,
      "metadata": {
        "id": "8yAd-1mlPOHp"
      },
      "outputs": [],
      "source": [
        "train,val,test=np.split(df.sample(frac=1),[int(0.6*len(df)),int(0.8*len(df))])"
      ]
    },
    {
      "cell_type": "code",
      "execution_count": null,
      "metadata": {
        "id": "OMQdZ_52Pl65"
      },
      "outputs": [],
      "source": [
        "def get_xy(dataframe,y_label,x_labels=None):\n",
        "   df=copy.deepcopy(dataframe)\n",
        "   if x_labels is None:\n",
        "    X=df[[c for c in df.columns if c!=y_label]].values\n",
        "   else:\n",
        "    if len(x_labels)==1:\n",
        "      X=dataframe[x_labels[0]].values.reshape(-1,1)\n",
        "    else:\n",
        "      X=dataframe[x_labels].values\n",
        "\n",
        "   Y=df[y_label].values.reshape(-1,1)\n",
        "   data=np.hstack((X,Y))\n",
        "   #print(data)\n",
        "   return data,X,Y"
      ]
    },
    {
      "cell_type": "code",
      "execution_count": null,
      "metadata": {
        "id": "hl1xfZLc0UKq"
      },
      "outputs": [],
      "source": [
        "_,X_train_temp,y_train_temp=get_xy(train,\"bike_count\",x_labels=[\"temp\"])\n",
        "_,X_val_temp,y_val_temp=get_xy(val,\"bike_count\",x_labels=[\"temp\"])\n",
        "_,X_test_temp,y_test_temp=get_xy(test,\"bike_count\",x_labels=[\"temp\"])"
      ]
    },
    {
      "cell_type": "code",
      "execution_count": null,
      "metadata": {
        "colab": {
          "base_uri": "https://localhost:8080/",
          "height": 91
        },
        "id": "f89Z_AJz4GN0",
        "outputId": "559ae0f6-baa0-461d-9a8f-4191d126f2f6"
      },
      "outputs": [],
      "source": [
        "temp_reg=LinearRegression()\n",
        "print(X_train_temp.shape)\n",
        "temp_reg.fit(X_train_temp,y_train_temp)"
      ]
    },
    {
      "cell_type": "code",
      "execution_count": null,
      "metadata": {
        "colab": {
          "base_uri": "https://localhost:8080/"
        },
        "id": "rF1N6Hif5sH4",
        "outputId": "fb2876fc-1826-4426-a5d9-de802009df26"
      },
      "outputs": [],
      "source": [
        "print(temp_reg.coef_,temp_reg.intercept_)"
      ]
    },
    {
      "cell_type": "code",
      "execution_count": null,
      "metadata": {
        "colab": {
          "base_uri": "https://localhost:8080/"
        },
        "id": "w-ITWYBk6BxZ",
        "outputId": "4d332448-7356-442f-9ad7-c61bb961102e"
      },
      "outputs": [],
      "source": [
        "temp_reg.score(X_test_temp,y_test_temp)#R^2 score"
      ]
    },
    {
      "cell_type": "code",
      "execution_count": null,
      "metadata": {
        "colab": {
          "base_uri": "https://localhost:8080/",
          "height": 472
        },
        "id": "X32arQSP6Sas",
        "outputId": "663d0a01-eae4-47da-ca69-8b5acd6c8921"
      },
      "outputs": [],
      "source": [
        "plt.scatter(X_train_temp,y_train_temp,label='Data',color=\"blue\")\n",
        "x=np.array(tf.linspace(-20,40,100)).reshape(-1,1)\n",
        "#print(x.shape)\n",
        "#print(temp_reg.predict(x))\n",
        "plt.plot(x,temp_reg.predict(x),label=\"Fit\",color=\"red\",linewidth=3)\n",
        "plt.legend()\n",
        "plt.title(\"Bikes vs temp\")\n",
        "plt.ylabel(\"Number of bikes\")\n",
        "plt.xlabel(\"Temp\")\n",
        "plt.show()"
      ]
    },
    {
      "cell_type": "markdown",
      "metadata": {
        "id": "hQPLGCy59hxi"
      },
      "source": [
        "# Multiple Linear Regression"
      ]
    },
    {
      "cell_type": "code",
      "execution_count": null,
      "metadata": {
        "colab": {
          "base_uri": "https://localhost:8080/",
          "height": 206
        },
        "id": "FyAszcki9MLi",
        "outputId": "6ade55cd-ba3a-42b9-e573-6c88ec80793c"
      },
      "outputs": [],
      "source": [
        "df.head()"
      ]
    },
    {
      "cell_type": "code",
      "execution_count": null,
      "metadata": {
        "id": "lDmizVcY82g_"
      },
      "outputs": [],
      "source": [
        "_,X_train_all,y_train_all=get_xy(train,\"bike_count\",x_labels=df.columns[1:])\n",
        "_,X_val_all,y_val_all=get_xy(val,\"bike_count\",x_labels=df.columns[1:])\n",
        "_,X_test_all,y_test_all=get_xy(test,\"bike_count\",x_labels=df.columns[1:])"
      ]
    },
    {
      "cell_type": "code",
      "execution_count": null,
      "metadata": {
        "colab": {
          "base_uri": "https://localhost:8080/",
          "height": 74
        },
        "id": "I5PJ9H4K9oex",
        "outputId": "45d985f9-92b4-49a1-b047-6027e42df012"
      },
      "outputs": [],
      "source": [
        "all_reg=LinearRegression()\n",
        "all_reg.fit(X_train_all,y_train_all)"
      ]
    },
    {
      "cell_type": "code",
      "execution_count": null,
      "metadata": {
        "colab": {
          "base_uri": "https://localhost:8080/"
        },
        "id": "i3qrZu6L90tE",
        "outputId": "36f2f4b8-ac24-49b6-c011-85fb715f4457"
      },
      "outputs": [],
      "source": [
        "all_reg.score(X_test_all,y_test_all)"
      ]
    },
    {
      "cell_type": "code",
      "execution_count": null,
      "metadata": {
        "id": "Byb4kfkddg_V"
      },
      "outputs": [],
      "source": [
        "y_pred_lr=all_reg.predict(X_test_all)\n"
      ]
    },
    {
      "cell_type": "markdown",
      "metadata": {
        "id": "4n6L8OdH-G5m"
      },
      "source": [
        "# Regression with neural net"
      ]
    },
    {
      "cell_type": "code",
      "execution_count": null,
      "metadata": {
        "id": "BAcVHDVK-Yqd"
      },
      "outputs": [],
      "source": [
        "#normalize the\n",
        "temp_normalizer=tf.keras.layers.Normalization(input_shape=(1,),axis=None)\n",
        "temp_normalizer.adapt(X_train_temp.reshape(-1))"
      ]
    },
    {
      "cell_type": "code",
      "execution_count": null,
      "metadata": {
        "id": "ZNWDUI3BAGn_"
      },
      "outputs": [],
      "source": [
        "temp_nn_model=tf.keras.Sequential([\n",
        "    temp_normalizer,\n",
        "    tf.keras.layers.Dense(1)\n",
        "])\n",
        "temp_nn_model.compile(optimizer=tf.keras.optimizers.Adam(learning_rate=0.1),loss=\"mean_squared_error\")"
      ]
    },
    {
      "cell_type": "code",
      "execution_count": null,
      "metadata": {
        "id": "kz7isM-KAweV"
      },
      "outputs": [],
      "source": [
        "history=temp_nn_model.fit(\n",
        "    X_train_temp.reshape(-1),y_train_temp,\n",
        "    verbose=0,\n",
        "    epochs=1000,\n",
        "    validation_data=(X_val_temp,y_val_temp)\n",
        ")"
      ]
    },
    {
      "cell_type": "code",
      "execution_count": null,
      "metadata": {
        "colab": {
          "base_uri": "https://localhost:8080/",
          "height": 449
        },
        "id": "c5iOZLANVBtC",
        "outputId": "d1a239b1-6c40-4dcf-a884-5ae1a283f8d5"
      },
      "outputs": [],
      "source": [
        "def plot_loss(history):\n",
        "  plt.plot(history.history['loss'],label='loss')\n",
        "  plt.plot(history.history['val_loss'],label='val_loss')\n",
        "  plt.xlabel('Epoch')\n",
        "  plt.ylabel('MSE')\n",
        "  plt.legend()\n",
        "  plt.grid(True)\n",
        "  plt.show()\n",
        "\n",
        "plot_loss(history)"
      ]
    },
    {
      "cell_type": "code",
      "execution_count": null,
      "metadata": {
        "colab": {
          "base_uri": "https://localhost:8080/",
          "height": 489
        },
        "id": "Wqbouw0nmApT",
        "outputId": "0f57ba67-e6f2-4cac-bcb4-7b868537173c"
      },
      "outputs": [],
      "source": [
        "plt.scatter(X_train_temp,y_train_temp,label='Data',color=\"blue\")\n",
        "x=np.array(tf.linspace(-20,40,100)).reshape(-1,1)\n",
        "plt.plot(x,temp_nn_model.predict(x),label=\"Fit\",color=\"red\",linewidth=3)\n",
        "plt.legend()\n",
        "plt.title(\"Bikes vs temp\")\n",
        "plt.ylabel(\"Number of bikes\")\n",
        "plt.xlabel(\"Temp\")\n",
        "plt.show()"
      ]
    },
    {
      "cell_type": "markdown",
      "metadata": {
        "id": "o3sLwIlYnHsn"
      },
      "source": [
        "# Neural Net"
      ]
    },
    {
      "cell_type": "code",
      "execution_count": null,
      "metadata": {
        "id": "EVRIWUyfoxYg"
      },
      "outputs": [],
      "source": [
        "temp_normalizer=tf.keras.layers.Normalization(input_shape=(1,),axis=None)\n",
        "temp_normalizer.adapt(X_train_temp.reshape(-1))"
      ]
    },
    {
      "cell_type": "code",
      "execution_count": null,
      "metadata": {
        "id": "7JKztL9FnHNN"
      },
      "outputs": [],
      "source": [
        "nn_model=tf.keras.Sequential([\n",
        "    temp_normalizer,\n",
        "    tf.keras.layers.Dense(32,activation='relu'),\n",
        "    tf.keras.layers.Dense(32,activation='relu'),\n",
        "    tf.keras.layers.Dense(1 ,activation='relu'),\n",
        "])\n",
        "\n",
        "nn_model.compile(optimizer=tf.keras.optimizers.Adam(learning_rate=0.001),loss=\"mean_squared_error\")"
      ]
    },
    {
      "cell_type": "code",
      "execution_count": null,
      "metadata": {
        "id": "zFvfoyuAnyhj"
      },
      "outputs": [],
      "source": [
        "history=nn_model.fit(\n",
        "    X_train_temp,y_train_temp,\n",
        "    validation_data=(X_val_temp,y_val_temp),\n",
        "    verbose=0,epochs=1000\n",
        ")"
      ]
    },
    {
      "cell_type": "code",
      "execution_count": null,
      "metadata": {
        "colab": {
          "base_uri": "https://localhost:8080/",
          "height": 449
        },
        "id": "jPvT7lUwoZ1v",
        "outputId": "658738bd-0a06-4fdd-f7f1-e5df3fd0915e"
      },
      "outputs": [],
      "source": [
        "plot_loss(history)"
      ]
    },
    {
      "cell_type": "code",
      "execution_count": null,
      "metadata": {
        "colab": {
          "base_uri": "https://localhost:8080/",
          "height": 489
        },
        "id": "lSfyr4IBpNdG",
        "outputId": "296c7b17-b9d1-49e7-8b42-2737568a1a4c"
      },
      "outputs": [],
      "source": [
        "plt.scatter(X_train_temp,y_train_temp,label='Data',color=\"blue\")\n",
        "x=np.array(tf.linspace(-20,40,100)).reshape(-1,1)\n",
        "plt.plot(x,nn_model.predict(x),label=\"Fit\",color=\"red\",linewidth=3)\n",
        "plt.legend()\n",
        "plt.title(\"Bikes vs temp\")\n",
        "plt.ylabel(\"Number of bikes\")\n",
        "plt.xlabel(\"Temp\")\n",
        "plt.show()"
      ]
    },
    {
      "cell_type": "code",
      "execution_count": null,
      "metadata": {
        "id": "oh25g_lSeutj"
      },
      "outputs": [],
      "source": [
        "all_normalizer=tf.keras.layers.Normalization(input_shape=(9,),axis=-1)\n",
        "all_normalizer.adapt(X_train_all)"
      ]
    },
    {
      "cell_type": "code",
      "execution_count": null,
      "metadata": {
        "id": "7GA_-ivmdH_Y"
      },
      "outputs": [],
      "source": [
        "nn_model=tf.keras.Sequential([\n",
        "    all_normalizer,\n",
        "    tf.keras.layers.Dense(32,activation='relu'),\n",
        "    tf.keras.layers.Dense(32,activation='relu'),\n",
        "    tf.keras.layers.Dense(1 ,activation='relu'),\n",
        "])\n",
        "\n",
        "nn_model.compile(optimizer=tf.keras.optimizers.Adam(learning_rate=0.001),loss=\"mean_squared_error\")"
      ]
    },
    {
      "cell_type": "code",
      "execution_count": null,
      "metadata": {
        "id": "TqrHdJYidIta"
      },
      "outputs": [],
      "source": [
        "history=nn_model.fit(\n",
        "    X_train_all,y_train_all,\n",
        "    validation_data=(X_val_all,y_val_all),\n",
        "    verbose=0,epochs=1000\n",
        ")"
      ]
    },
    {
      "cell_type": "code",
      "execution_count": null,
      "metadata": {
        "colab": {
          "base_uri": "https://localhost:8080/",
          "height": 449
        },
        "id": "LboJ8OuIdVXd",
        "outputId": "0751c2e0-3bd9-4b64-bb14-f6d9996d1f40"
      },
      "outputs": [],
      "source": [
        "plot_loss(history)"
      ]
    },
    {
      "cell_type": "code",
      "execution_count": null,
      "metadata": {
        "colab": {
          "base_uri": "https://localhost:8080/"
        },
        "id": "XqY8QuZ6dt95",
        "outputId": "88523ffb-f528-4b87-b69f-6025420297fb"
      },
      "outputs": [],
      "source": [
        "#calculate MSE for both linear regressor and neural net\n",
        "y_pred_lr=all_reg.predict(X_test_all)\n",
        "y_pred_nn=nn_model.predict(X_test_all)"
      ]
    },
    {
      "cell_type": "code",
      "execution_count": null,
      "metadata": {
        "id": "hWYxnyGcd6e8"
      },
      "outputs": [],
      "source": [
        "def MSE(y_pred,y_real):\n",
        "  return np.square(y_pred-y_real).mean()"
      ]
    },
    {
      "cell_type": "code",
      "execution_count": null,
      "metadata": {
        "colab": {
          "base_uri": "https://localhost:8080/"
        },
        "id": "-SE7e8ApeWFs",
        "outputId": "2c280288-72b1-475e-a7e5-da2dae7b4672"
      },
      "outputs": [],
      "source": [
        "print(MSE(y_pred_lr,y_test_all))\n",
        "print(MSE(y_pred_nn,y_test_all))"
      ]
    },
    {
      "cell_type": "code",
      "execution_count": null,
      "metadata": {
        "colab": {
          "base_uri": "https://localhost:8080/",
          "height": 472
        },
        "id": "0SxHUCUag8fG",
        "outputId": "7e8c918c-a25b-4250-dcf5-bbc799734d49"
      },
      "outputs": [],
      "source": [
        "ax=plt.axes(aspect=\"equal\")\n",
        "plt.scatter(y_test_all,y_pred_lr,label=\"Lin Reg Preds\")\n",
        "plt.scatter(y_test_all,y_pred_nn,label=\"NN Preds\")\n",
        "plt.xlabel(\"True Values\")\n",
        "plt.ylabel(\"Predictions\")\n",
        "lims=[0,1800]\n",
        "plt.xlim(lims)\n",
        "plt.ylim(lims)\n",
        "plt.legend()\n",
        "plt.plot(lims,lims,c=\"red\")"
      ]
    }
  ],
  "metadata": {
    "colab": {
      "provenance": []
    },
    "kernelspec": {
      "display_name": "Python 3",
      "name": "python3"
    },
    "language_info": {
      "name": "python"
    }
  },
  "nbformat": 4,
  "nbformat_minor": 0
}
