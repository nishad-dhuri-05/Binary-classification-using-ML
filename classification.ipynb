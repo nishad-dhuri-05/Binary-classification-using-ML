{
  "cells": [
    {
      "cell_type": "code",
      "execution_count": null,
      "metadata": {
        "id": "6uF32qxu9D2-"
      },
      "outputs": [],
      "source": [
        "import numpy as np\n",
        "import pandas as pd\n",
        "import matplotlib.pyplot as plt\n",
        "from sklearn.preprocessing import StandardScaler\n",
        "from imblearn.over_sampling import RandomOverSampler"
      ]
    },
    {
      "cell_type": "code",
      "execution_count": null,
      "metadata": {
        "colab": {
          "base_uri": "https://localhost:8080/",
          "height": 226
        },
        "id": "Fveqb1rD9Q8N",
        "outputId": "ca8c89ad-abbe-47e3-d741-64a5d155df6d"
      },
      "outputs": [],
      "source": [
        "cols=[\"fLength\",\"fWidth\",\"fSize\",\"fConc1\",\"fAsym\",\"fM3Long\",\"fM3Trans\",\"fAlpha\",\"fDist\",\"class\"]\n",
        "df=pd.read_csv(\"data/magic04.data\",names=cols)\n",
        "df.head()"
      ]
    },
    {
      "cell_type": "code",
      "execution_count": null,
      "metadata": {
        "colab": {
          "base_uri": "https://localhost:8080/",
          "height": 226
        },
        "id": "TKNGLYtM_poT",
        "outputId": "c2a90551-f358-47b0-8fb6-f318d3eb3313"
      },
      "outputs": [],
      "source": [
        "df[\"class\"]=(df[\"class\"]==\"g\").astype(int)\n",
        "df.head()"
      ]
    },
    {
      "cell_type": "code",
      "execution_count": null,
      "metadata": {
        "colab": {
          "base_uri": "https://localhost:8080/",
          "height": 1000
        },
        "id": "oRw-Qekg_9Cg",
        "outputId": "7a49d6d0-038d-4447-95fc-27e4962e5502"
      },
      "outputs": [],
      "source": [
        "for label in cols[:-1]:\n",
        "  plt.hist(df[df[\"class\"]==1][label],color='blue',label='gamma',alpha=0.7,density=True)\n",
        "  plt.hist(df[df[\"class\"]==0][label],color='red',label='hadron',alpha=0.7,density=True)\n",
        "  plt.ylabel(\"probability\")\n",
        "  plt.xlabel(label)\n",
        "  plt.legend()\n",
        "  plt.show()"
      ]
    },
    {
      "cell_type": "markdown",
      "metadata": {
        "id": "-puYa6lBqnd0"
      },
      "source": [
        "# Train,validate and test datasets"
      ]
    },
    {
      "cell_type": "code",
      "execution_count": null,
      "metadata": {
        "colab": {
          "base_uri": "https://localhost:8080/"
        },
        "id": "RBKTY7l2qkWT",
        "outputId": "ffe89261-06af-42e4-c0d5-7f9e13869764"
      },
      "outputs": [],
      "source": [
        "df = df.sample(frac=1).reset_index(drop=True)\n",
        "train, valid, test = np.split(df.sample(frac=1), [int(0.6*len(df)), int(0.8*len(df))])#sample shuffles the data\n",
        "# we will scale the numerical values in the dataset,so that they belong to the same range\n",
        "# flength is in 100s, whereas width is in 10s, this can affect our final results\n",
        "print(len(train),len(valid),len(test))"
      ]
    },
    {
      "cell_type": "code",
      "execution_count": null,
      "metadata": {
        "id": "sIs7F1GHr5UZ"
      },
      "outputs": [],
      "source": [
        "def scale_dataset(dataframe,oversample=False):\n",
        "  X=dataframe[dataframe.columns[:-1]].values#all the way up to last column which contains the output\n",
        "  Y=dataframe[dataframe.columns[-1]].values\n",
        "  scaler=StandardScaler()\n",
        "  X=scaler.fit_transform(X)\n",
        "  if oversample:\n",
        "    ros=RandomOverSampler()\n",
        "    X,Y=ros.fit_resample(X,Y)\n",
        "  data=np.hstack((X,np.reshape(Y,(len(Y),-1)))) #put two arrays side by side to each other\n",
        "  #inside reshape,if i put -1,its giving a error\n",
        "  #-1 decides automatically\n",
        "  return data ,X,Y\n"
      ]
    },
    {
      "cell_type": "code",
      "execution_count": null,
      "metadata": {
        "colab": {
          "base_uri": "https://localhost:8080/"
        },
        "id": "7LeKagNL1jOz",
        "outputId": "08a709fd-6b4a-4720-8bca-04ac678bec72"
      },
      "outputs": [],
      "source": [
        "train\n",
        "print(len(train[train[\"class\"]==1]))#gammas\n",
        "print(len(train[train[\"class\"]==0]))#hadron\n",
        "#we need to oversample our training dataset to increase the number of hadrons"
      ]
    },
    {
      "cell_type": "code",
      "execution_count": null,
      "metadata": {
        "id": "B6kmGmp-2yDn"
      },
      "outputs": [],
      "source": [
        "train,X_train,Y_train=scale_dataset(pd.DataFrame(train),True)\n",
        "valid,X_valid,Y_valid=scale_dataset(pd.DataFrame(valid))\n",
        "test,X_test,Y_test=scale_dataset(pd.DataFrame(test))\n",
        "#train"
      ]
    },
    {
      "cell_type": "code",
      "execution_count": null,
      "metadata": {
        "colab": {
          "base_uri": "https://localhost:8080/"
        },
        "id": "uoffY7Ak367r",
        "outputId": "514f8d0a-4bb8-4a9e-bc8f-20a65963a29e"
      },
      "outputs": [],
      "source": [
        "#len(Y_train)\n",
        "sum(Y_train==1)\n",
        "#sum(Y_train==0)"
      ]
    },
    {
      "cell_type": "markdown",
      "metadata": {
        "id": "3ZUJpPpVNUfx"
      },
      "source": [
        "## K-nearest Neighbours"
      ]
    },
    {
      "cell_type": "code",
      "execution_count": null,
      "metadata": {
        "id": "2dePIz81NYq-"
      },
      "outputs": [],
      "source": [
        "from sklearn.neighbors import KNeighborsClassifier\n",
        "from sklearn.metrics import classification_report"
      ]
    },
    {
      "cell_type": "code",
      "execution_count": null,
      "metadata": {
        "colab": {
          "base_uri": "https://localhost:8080/",
          "height": 74
        },
        "id": "Lbma8_OlOdN_",
        "outputId": "75b23397-1ab9-4dc0-80eb-90c97f740f95"
      },
      "outputs": [],
      "source": [
        "knn_model=KNeighborsClassifier(n_neighbors=3)\n",
        "knn_model.fit(X_train,Y_train)"
      ]
    },
    {
      "cell_type": "code",
      "execution_count": null,
      "metadata": {
        "colab": {
          "base_uri": "https://localhost:8080/"
        },
        "id": "sTNG6vSbOtNk",
        "outputId": "5c6867f2-1ed7-4fc6-8411-18e4151726e4"
      },
      "outputs": [],
      "source": [
        "Y_pred=knn_model.predict(X_test)\n",
        "Y_pred"
      ]
    },
    {
      "cell_type": "code",
      "execution_count": null,
      "metadata": {
        "colab": {
          "base_uri": "https://localhost:8080/"
        },
        "id": "OmOv0igFPMOZ",
        "outputId": "4f5b8014-2803-4b67-da22-18421dd294d2"
      },
      "outputs": [],
      "source": [
        "print(classification_report(Y_test,Y_pred))"
      ]
    },
    {
      "cell_type": "markdown",
      "metadata": {
        "id": "bRMnFvhbQWOJ"
      },
      "source": [
        "### We can apply Naive Bayes to classification"
      ]
    },
    {
      "cell_type": "code",
      "execution_count": null,
      "metadata": {
        "id": "as5veSnWQZJl"
      },
      "outputs": [],
      "source": [
        "from sklearn.naive_bayes import GaussianNB"
      ]
    },
    {
      "cell_type": "code",
      "execution_count": null,
      "metadata": {
        "id": "lOmfIYSGZImj"
      },
      "outputs": [],
      "source": [
        "nb_model=GaussianNB()\n",
        "nb_model=nb_model.fit(X_train,Y_train)"
      ]
    },
    {
      "cell_type": "code",
      "execution_count": null,
      "metadata": {
        "colab": {
          "base_uri": "https://localhost:8080/"
        },
        "id": "2oyySbJSZgMq",
        "outputId": "222c8068-4883-423b-edc3-07767553034b"
      },
      "outputs": [],
      "source": [
        "Y_pred=nb_model.predict(X_test)\n",
        "Y_pred\n",
        "print(classification_report(Y_test,Y_pred))"
      ]
    },
    {
      "cell_type": "markdown",
      "metadata": {
        "id": "szk0QIIe4C3A"
      },
      "source": [
        "## Logistic Regression"
      ]
    },
    {
      "cell_type": "code",
      "execution_count": null,
      "metadata": {
        "id": "LFcWuP_P4GYv"
      },
      "outputs": [],
      "source": [
        "from sklearn.linear_model import LogisticRegression"
      ]
    },
    {
      "cell_type": "code",
      "execution_count": null,
      "metadata": {
        "id": "brvESUOz4OsO"
      },
      "outputs": [],
      "source": [
        "lg_model=LogisticRegression()#we can add a penalty in the fn parameters\n",
        "# penalty is basically the loss function, l2 penalty refers to quadratic functions\n",
        "lg_model=lg_model.fit(X_train,Y_train)"
      ]
    },
    {
      "cell_type": "code",
      "execution_count": null,
      "metadata": {
        "id": "QOJ26HsO6GkF"
      },
      "outputs": [],
      "source": [
        "Y_pred=nb_model.predict(X_test)"
      ]
    },
    {
      "cell_type": "code",
      "execution_count": null,
      "metadata": {
        "colab": {
          "base_uri": "https://localhost:8080/"
        },
        "id": "QjIeCxTh5OJd",
        "outputId": "dde3cbe7-182b-4016-eb4a-b5481568fda7"
      },
      "outputs": [],
      "source": [
        "Y_pred=lg_model.predict(X_test)\n",
        "Y_pred\n",
        "print(classification_report(Y_test,Y_pred))"
      ]
    },
    {
      "cell_type": "markdown",
      "metadata": {
        "id": "HUC8ssFZ9JyJ"
      },
      "source": [
        "## SVM"
      ]
    },
    {
      "cell_type": "code",
      "execution_count": null,
      "metadata": {
        "id": "7fB9KmYy9JML"
      },
      "outputs": [],
      "source": [
        "from sklearn.svm import SVC#support vector classifier"
      ]
    },
    {
      "cell_type": "code",
      "execution_count": null,
      "metadata": {
        "id": "n6YV8RYp9QS2"
      },
      "outputs": [],
      "source": [
        "svm_model=SVC()\n",
        "svm_model=svm_model.fit(X_train,Y_train)"
      ]
    },
    {
      "cell_type": "code",
      "execution_count": null,
      "metadata": {
        "colab": {
          "base_uri": "https://localhost:8080/"
        },
        "id": "TLBvlr3N9lIn",
        "outputId": "51241d54-4795-4989-8a33-6cbabce92be3"
      },
      "outputs": [],
      "source": [
        "Y_pred=svm_model.predict(X_test)\n",
        "print(classification_report(Y_test,Y_pred))"
      ]
    },
    {
      "cell_type": "markdown",
      "metadata": {
        "id": "22SCtzuXAr5e"
      },
      "source": [
        "## Neural Network"
      ]
    },
    {
      "cell_type": "code",
      "execution_count": null,
      "metadata": {
        "id": "HpB6w9ySArmz"
      },
      "outputs": [],
      "source": [
        "import tensorflow as tf"
      ]
    },
    {
      "cell_type": "code",
      "execution_count": null,
      "metadata": {
        "id": "6lYld1idDNqa"
      },
      "outputs": [],
      "source": [
        "def plot_loss(history):\n",
        "  #fig,(ax1,ax2)=plt.subplots(1,2)#to create side-by-side plots\n",
        "  plt.plot(history.history['loss'],label='loss')\n",
        "  plt.plot(history.history['val_loss'],label='val_loss')\n",
        "  plt.xlabel('Epoch')\n",
        "  plt.ylabel('Binary crossentropy')\n",
        "  plt.legend()\n",
        "  plt.grid(True)\n",
        "  plt.show()\n",
        "\n",
        "def plot_accuracy(history):\n",
        "  plt.plot(history.history['accuracy'],label='accuracy')\n",
        "  plt.plot(history.history['val_accuracy'],label='val_accuracy')\n",
        "  plt.xlabel('Epoch')\n",
        "  plt.ylabel('Accuracy')\n",
        "  plt.legend()\n",
        "  plt.grid(True)\n",
        "  plt.show()"
      ]
    },
    {
      "cell_type": "code",
      "execution_count": null,
      "metadata": {
        "id": "QlqX6W4FVph1"
      },
      "outputs": [],
      "source": [
        "def plot_history(history):#plots both loss and accuracy\n",
        "  fig,(ax1,ax2)=plt.subplots(1,2,figsize=(10,4))#to create side-by-side plots\n",
        "  ax1.plot(history.history['loss'],label='loss')\n",
        "  ax1.plot(history.history['val_loss'],label='val_loss')\n",
        "  ax1.xlabel('Epoch')\n",
        "  ax1.ylabel('Binary crossentropy')\n",
        "  ax1.legend()\n",
        "  ax1.grid(True)\n",
        "\n",
        "  ax2.plot(history.history['loss'],label='loss')\n",
        "  ax2.plot(history.history['val_loss'],label='val_loss')\n",
        "  ax2.xlabel('Epoch')\n",
        "  ax2.ylabel('Binary crossentropy')\n",
        "  ax2.legend()\n",
        "  ax2.grid(True)\n",
        "\n",
        "  plt.show()"
      ]
    },
    {
      "cell_type": "code",
      "execution_count": null,
      "metadata": {
        "id": "pktN2THZA1Ux"
      },
      "outputs": [],
      "source": [
        "# nn_model=tf.keras.Sequential(\n",
        "#     [\n",
        "#         tf.keras.layers.Dense(32,activation='relu',input_shape=(9,)),\n",
        "#         tf.keras.layers.Dropout(),#randomly choose at some rates certain nodes and dont train them,to prevent overfitting\n",
        "#         tf.keras.layers.Dense(32,activation='relu'),\n",
        "#         tf.keras.layers.Dense(1,activation='sigmoid')\n",
        "#     ]\n",
        "# )\n",
        "# nn_model.compile(optimizer=tf.keras.optimizers.Adam(0.001),loss='binary_crossentropy',\n",
        "#                  metrics=['accuracy'])# we provide all the layers in here\n",
        "\n"
      ]
    },
    {
      "cell_type": "code",
      "execution_count": null,
      "metadata": {
        "id": "4VkYUiT6Iv5R"
      },
      "outputs": [],
      "source": [
        "def train_model(X_train,Y_train,num_nodes,dropout_prob,lr,batch_size,epochs):\n",
        "  nn_model=tf.keras.Sequential(\n",
        "    [\n",
        "        tf.keras.layers.Dense(num_nodes,activation='relu',input_shape=(9,)),\n",
        "        tf.keras.layers.Dropout(dropout_prob),#randomly choose at some rates certain nodes and dont train them,to prevent overfitting\n",
        "        tf.keras.layers.Dense(num_nodes,activation='relu'),\n",
        "        tf.keras.layers.Dropout(dropout_prob),\n",
        "        tf.keras.layers.Dense(1,activation='sigmoid')\n",
        "    ]\n",
        "  )\n",
        "  nn_model.compile(optimizer=tf.keras.optimizers.Adam(lr),loss='binary_crossentropy',\n",
        "                 metrics=['accuracy'])# we provide all the layers in here\n",
        "  history=nn_model.fit(\n",
        "    X_train,Y_train,epochs=epochs,batch_size=batch_size,validation_split=0.2,verbose=0\n",
        "  )\n",
        "  #instead of saying validation_split=0.2, we can just pass the validation_data=valid\n",
        "  return nn_model,history"
      ]
    },
    {
      "cell_type": "code",
      "execution_count": null,
      "metadata": {
        "id": "ImiPQC4CFLCt"
      },
      "outputs": [],
      "source": [
        "# history=nn_model.fit(\n",
        "#     X_train,Y_train,epochs=100,batch_size=32,validation_split=0.2,verbose=0\n",
        "# )"
      ]
    },
    {
      "cell_type": "code",
      "execution_count": null,
      "metadata": {
        "id": "yTBUuB0tJvXH"
      },
      "outputs": [],
      "source": [
        "nn_model,history=train_model(X_train,Y_train,32,0.01,0.001,16,100)"
      ]
    },
    {
      "cell_type": "code",
      "execution_count": null,
      "metadata": {
        "colab": {
          "base_uri": "https://localhost:8080/",
          "height": 881
        },
        "id": "M4BFF3eXHckl",
        "outputId": "4f713420-3fb9-4174-9ce0-377ea109abc6"
      },
      "outputs": [],
      "source": [
        "plot_loss(history)\n",
        "plot_accuracy(history)"
      ]
    },
    {
      "cell_type": "code",
      "execution_count": null,
      "metadata": {
        "colab": {
          "base_uri": "https://localhost:8080/"
        },
        "id": "LQeKp-qdXFfs",
        "outputId": "20a8f629-ebe6-4ab7-f6f3-0945ad379c50"
      },
      "outputs": [],
      "source": [
        "val_loss=nn_model.evaluate(X_valid,Y_valid)\n",
        "print(val_loss)"
      ]
    },
    {
      "cell_type": "code",
      "execution_count": null,
      "metadata": {
        "id": "5LEAbILUS8sR"
      },
      "outputs": [],
      "source": [
        "# least_val_loss=float('inf')\n",
        "# least_loss_model=None\n",
        "# epochs=100\n",
        "# for num_nodes in [16,32,64]:\n",
        "#   for dropout_prob in [0,0.2]:\n",
        "#     for lr in [0.01 , 0.005 , 0.001]:\n",
        "#       for batch_size in [32, 64, 128]:\n",
        "#         print(f\"{num_nodes} nodes, dropour {dropout_prob}, lr {lr}, batchsize {batch_size}\")\n",
        "#         model, history = train_model(X_train,Y_train,num_nodes,dropout_prob,lr,batch_size,epochs)\n",
        "#         plot_history(history)\n",
        "#         val_loss=model.evaluate(X_valid, Y_valid)\n",
        "#         if val_loss[0]<least_val_loss:\n",
        "#           least_val_loss=val_loss[0]\n",
        "#           least_loss_model=model"
      ]
    },
    {
      "cell_type": "code",
      "execution_count": null,
      "metadata": {
        "colab": {
          "base_uri": "https://localhost:8080/"
        },
        "id": "dJVS9lUjZV9P",
        "outputId": "f6c1f8e6-5fef-43c1-ab26-a5724fd0e987"
      },
      "outputs": [],
      "source": [
        "Y_pred=nn_model.predict(X_test)#least_loss_model\n",
        "Y_pred=(Y_pred>0.5).astype(int)\n",
        "Y_pred=Y_pred.reshape(-1)\n",
        "Y_pred"
      ]
    },
    {
      "cell_type": "code",
      "execution_count": null,
      "metadata": {
        "colab": {
          "base_uri": "https://localhost:8080/"
        },
        "id": "KuxbcB0oZ2LB",
        "outputId": "51f28629-3669-4b5b-911b-642f2ef5d554"
      },
      "outputs": [],
      "source": [
        "print(classification_report(Y_test,Y_pred))"
      ]
    },
    {
      "cell_type": "markdown",
      "metadata": {
        "id": "Wx03HiqxacYn"
      },
      "source": [
        "## Linear Regression"
      ]
    },
    {
      "cell_type": "code",
      "execution_count": null,
      "metadata": {
        "id": "JWtk1DpjaeUp"
      },
      "outputs": [],
      "source": []
    }
  ],
  "metadata": {
    "colab": {
      "provenance": []
    },
    "kernelspec": {
      "display_name": "Python 3",
      "name": "python3"
    },
    "language_info": {
      "name": "python"
    }
  },
  "nbformat": 4,
  "nbformat_minor": 0
}
